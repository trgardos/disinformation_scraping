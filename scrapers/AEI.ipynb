{
 "cells": [
  {
   "cell_type": "code",
   "execution_count": 1,
   "id": "f07b31b9",
   "metadata": {},
   "outputs": [],
   "source": [
    "import requests\n",
    "from bs4 import BeautifulSoup as bs\n",
    "import pandas as pd\n",
    "from selenium import webdriver\n",
    "import newspaper"
   ]
  },
  {
   "cell_type": "code",
   "execution_count": 2,
   "id": "8930a9aa",
   "metadata": {},
   "outputs": [
    {
     "name": "stderr",
     "output_type": "stream",
     "text": [
      "/var/folders/px/4r2jc78x1h748q29m317jc6w0000gn/T/ipykernel_56275/1162476086.py:1: DeprecationWarning: executable_path has been deprecated, please pass in a Service object\n",
      "  driver = webdriver.Chrome(\"/usr/lib/chromium-browser/chromedriver\")\n"
     ]
    }
   ],
   "source": [
    "driver = webdriver.Chrome(\"/usr/lib/chromium-browser/chromedriver\")"
   ]
  },
  {
   "cell_type": "code",
   "execution_count": 3,
   "id": "3c459de5",
   "metadata": {},
   "outputs": [],
   "source": [
    "#Settings\n",
    "think_tank = \"AEI\"\n",
    "start_date = \"2022\" #Stop scraping articles that are from 2022 or older."
   ]
  },
  {
   "cell_type": "code",
   "execution_count": 4,
   "id": "b44e2ba0",
   "metadata": {},
   "outputs": [
    {
     "data": {
      "text/html": [
       "<div>\n",
       "<style scoped>\n",
       "    .dataframe tbody tr th:only-of-type {\n",
       "        vertical-align: middle;\n",
       "    }\n",
       "\n",
       "    .dataframe tbody tr th {\n",
       "        vertical-align: top;\n",
       "    }\n",
       "\n",
       "    .dataframe thead th {\n",
       "        text-align: right;\n",
       "    }\n",
       "</style>\n",
       "<table border=\"1\" class=\"dataframe\">\n",
       "  <thead>\n",
       "    <tr style=\"text-align: right;\">\n",
       "      <th></th>\n",
       "      <th>TITLE</th>\n",
       "      <th>AUTHOR</th>\n",
       "      <th>CONTENT</th>\n",
       "      <th>DATE</th>\n",
       "      <th>TYPE</th>\n",
       "      <th>THINK_TANK</th>\n",
       "      <th>LINK</th>\n",
       "    </tr>\n",
       "  </thead>\n",
       "  <tbody>\n",
       "  </tbody>\n",
       "</table>\n",
       "</div>"
      ],
      "text/plain": [
       "Empty DataFrame\n",
       "Columns: [TITLE, AUTHOR, CONTENT, DATE, TYPE, THINK_TANK, LINK]\n",
       "Index: []"
      ]
     },
     "execution_count": 4,
     "metadata": {},
     "output_type": "execute_result"
    }
   ],
   "source": [
    "df = pd.DataFrame(columns= [\"THINK_TANK\", \"AUTHOR\", \"TITLE\", \"CONTENT\", \"DATE\", \"LINK\", \"TYPE\"])\n",
    "df = df[[\"TITLE\", \"AUTHOR\", \"CONTENT\", \"DATE\", \"TYPE\", \"THINK_TANK\", \"LINK\"]]\n",
    "df.head()"
   ]
  },
  {
   "cell_type": "code",
   "execution_count": 6,
   "id": "4aec0f12",
   "metadata": {},
   "outputs": [],
   "source": [
    "#Newspaper library settings\n",
    "user_agent = 'Mozilla/5.0 (Macintosh; Intel Mac OS X 10_15_7) AppleWebKit/537.36 (KHTML, like Gecko) Chrome/113.0.0.0 Safari/537.36'\n",
    "config = newspaper.Config()\n",
    "config.browser_user_agent = user_agent"
   ]
  },
  {
   "cell_type": "code",
   "execution_count": 7,
   "id": "8f1f6fc0",
   "metadata": {},
   "outputs": [],
   "source": [
    "#Scrapes the title, date, content, authors of an article given the URL.\n",
    "#Returns False if article is before the given start_date. returns True if article within date range, indicating that scraping should continue\n",
    "#Using Both Newspaper and BeautifulSoup to scrape certain parts of the article.\n",
    " \n",
    "def scrape_article(URL):\n",
    "    page = requests.get(URL)\n",
    "    soup = bs(page.content, \"html.parser\") #Using BeautifulSoup to download article\n",
    "    \n",
    "    try: #Using newspaper to download the article\n",
    "        article = newspaper.Article(URL, config=config)\n",
    "        article.download()\n",
    "        article.parse()\n",
    "    except:\n",
    "        return True\n",
    "\n",
    "    content = \"\"\n",
    "    title = \"\"\n",
    "    author = \"\"\n",
    "    date = \"\"\n",
    "    type = \"\"\n",
    "\n",
    "    try:\n",
    "        date = soup.find(\"p\", class_=\"date\").text\n",
    "    except: pass\n",
    "    \n",
    "    if start_date in date:\n",
    "        return False #indicates that no more pages should be scraped as it's out of the date range\n",
    "    else:\n",
    "        #Tries to gather all the information.\n",
    "        try:\n",
    "            content = article.text\n",
    "        except:pass\n",
    "        try:\n",
    "            title = soup.find(\"h1\", class_=\"entry-title\").text\n",
    "        except: pass\n",
    "        try:\n",
    "            author = ', '.join(article.authors)\n",
    "        except: pass\n",
    "        try:\n",
    "            type = soup.find(\"span\", class_=\"type\").text.replace(\"[|]\", \"\")\n",
    "        except: pass\n",
    "    \n",
    "        row = [title, author, content, date, type, \"AEI\", URL]\n",
    "        df.loc[len(df.index)] = row #Adds the article/publication to the dataframe as a row\n",
    "        return True\n"
   ]
  },
  {
   "cell_type": "code",
   "execution_count": 8,
   "id": "cbeb67cb",
   "metadata": {},
   "outputs": [],
   "source": [
    "#Run through all publication sites until start_date reached.\n",
    "driver.get(\"https://www.aei.org/search-results/?wpsolr_fq%5B0%5D=tags_str:Climate%20change&wpsolr_page=1\") #Overview of articles\n",
    "soup = bs(driver.page_source, \"html.parser\")\n",
    "\n",
    "run = True #is true until the first article before start_date is reached. \n",
    "\n",
    "while run:\n",
    "    #Scrapes all articles on the overview page\n",
    "    soup = bs(driver.page_source, \"html.parser\")\n",
    "\n",
    "    search_content = soup.find(\"div\", class_=\"col-12 col-lg-8 col-xl-9 results-list\")\n",
    "\n",
    "    for post in search_content.findAll(\"div\", class_=\"row gy-3\"):\n",
    "        link = post.find(\"h4\",  class_=\"title\").find(\"a\")[\"href\"]\n",
    "        run = scrape_article(link)\n",
    "    \n",
    "    #Goes to next page when all articles are scraped\n",
    "    next_page = soup.find(\"a\", class_=\"page-link\",string=\"Next\")\n",
    "    if next_page is None:\n",
    "        run = False\n",
    "    else:\n",
    "        driver.get(next_page[\"href\"])\n",
    "        soup = bs(driver.page_source, \"html.parser\")\n"
   ]
  },
  {
   "cell_type": "code",
   "execution_count": 9,
   "id": "3e3d8a95",
   "metadata": {},
   "outputs": [
    {
     "data": {
      "text/html": [
       "<div>\n",
       "<style scoped>\n",
       "    .dataframe tbody tr th:only-of-type {\n",
       "        vertical-align: middle;\n",
       "    }\n",
       "\n",
       "    .dataframe tbody tr th {\n",
       "        vertical-align: top;\n",
       "    }\n",
       "\n",
       "    .dataframe thead th {\n",
       "        text-align: right;\n",
       "    }\n",
       "</style>\n",
       "<table border=\"1\" class=\"dataframe\">\n",
       "  <thead>\n",
       "    <tr style=\"text-align: right;\">\n",
       "      <th></th>\n",
       "      <th>TITLE</th>\n",
       "      <th>AUTHOR</th>\n",
       "      <th>CONTENT</th>\n",
       "      <th>DATE</th>\n",
       "      <th>TYPE</th>\n",
       "      <th>THINK_TANK</th>\n",
       "      <th>LINK</th>\n",
       "    </tr>\n",
       "  </thead>\n",
       "  <tbody>\n",
       "    <tr>\n",
       "      <th>0</th>\n",
       "      <td>From Environmentalism to Climate Catastrophism...</td>\n",
       "      <td>Ruy Teixeira</td>\n",
       "      <td>Key Points\\n\\nThe environmental movement has a...</td>\n",
       "      <td>May 10, 2023</td>\n",
       "      <td>Report</td>\n",
       "      <td>AEI</td>\n",
       "      <td>https://www.aei.org/research-products/report/f...</td>\n",
       "    </tr>\n",
       "    <tr>\n",
       "      <th>1</th>\n",
       "      <td>Letter: Electric Vehicles Won’t Save the Climate</td>\n",
       "      <td>Benjamin Zycher</td>\n",
       "      <td>Note: This letter to the editor appeared in th...</td>\n",
       "      <td>April 26, 2023</td>\n",
       "      <td>Article</td>\n",
       "      <td>AEI</td>\n",
       "      <td>https://www.aei.org/articles/letter-electric-v...</td>\n",
       "    </tr>\n",
       "    <tr>\n",
       "      <th>2</th>\n",
       "      <td>Earth Day 2023: Utterly Bereft of Ideas</td>\n",
       "      <td>Benjamin Zycher</td>\n",
       "      <td>Earth Day falls on April 22 — Lenin’s birthday...</td>\n",
       "      <td>April 21, 2023</td>\n",
       "      <td>Article</td>\n",
       "      <td>AEI</td>\n",
       "      <td>https://www.aei.org/articles/earth-day-2023-ut...</td>\n",
       "    </tr>\n",
       "    <tr>\n",
       "      <th>3</th>\n",
       "      <td>OPEC Remains an Obstacle for Biden’s Green-Ene...</td>\n",
       "      <td>Benjamin Zycher, James Pethokoukis</td>\n",
       "      <td>Can it surprise anyone that the multiple Biden...</td>\n",
       "      <td>April 17, 2023</td>\n",
       "      <td>Article</td>\n",
       "      <td>AEI</td>\n",
       "      <td>https://www.aei.org/articles/opec-remains-an-o...</td>\n",
       "    </tr>\n",
       "    <tr>\n",
       "      <th>4</th>\n",
       "      <td>Comment to the Department of Energy: Proposed ...</td>\n",
       "      <td>Benjamin Zycher</td>\n",
       "      <td>Summary\\n\\nThe estimates on benefits and costs...</td>\n",
       "      <td>April 14, 2023</td>\n",
       "      <td>Testimony</td>\n",
       "      <td>AEI</td>\n",
       "      <td>https://www.aei.org/research-products/testimon...</td>\n",
       "    </tr>\n",
       "  </tbody>\n",
       "</table>\n",
       "</div>"
      ],
      "text/plain": [
       "                                               TITLE  \\\n",
       "0  From Environmentalism to Climate Catastrophism...   \n",
       "1   Letter: Electric Vehicles Won’t Save the Climate   \n",
       "2            Earth Day 2023: Utterly Bereft of Ideas   \n",
       "3  OPEC Remains an Obstacle for Biden’s Green-Ene...   \n",
       "4  Comment to the Department of Energy: Proposed ...   \n",
       "\n",
       "                               AUTHOR  \\\n",
       "0                        Ruy Teixeira   \n",
       "1                     Benjamin Zycher   \n",
       "2                     Benjamin Zycher   \n",
       "3  Benjamin Zycher, James Pethokoukis   \n",
       "4                     Benjamin Zycher   \n",
       "\n",
       "                                             CONTENT            DATE  \\\n",
       "0  Key Points\\n\\nThe environmental movement has a...    May 10, 2023   \n",
       "1  Note: This letter to the editor appeared in th...  April 26, 2023   \n",
       "2  Earth Day falls on April 22 — Lenin’s birthday...  April 21, 2023   \n",
       "3  Can it surprise anyone that the multiple Biden...  April 17, 2023   \n",
       "4  Summary\\n\\nThe estimates on benefits and costs...  April 14, 2023   \n",
       "\n",
       "        TYPE THINK_TANK                                               LINK  \n",
       "0     Report        AEI  https://www.aei.org/research-products/report/f...  \n",
       "1    Article        AEI  https://www.aei.org/articles/letter-electric-v...  \n",
       "2    Article        AEI  https://www.aei.org/articles/earth-day-2023-ut...  \n",
       "3    Article        AEI  https://www.aei.org/articles/opec-remains-an-o...  \n",
       "4  Testimony        AEI  https://www.aei.org/research-products/testimon...  "
      ]
     },
     "execution_count": 9,
     "metadata": {},
     "output_type": "execute_result"
    }
   ],
   "source": [
    "df.head(5)"
   ]
  },
  {
   "cell_type": "code",
   "execution_count": 10,
   "id": "96db5467",
   "metadata": {},
   "outputs": [],
   "source": [
    "df.to_csv(\"data/AEI.csv\",encoding=\"utf-8-sig\",index=False)"
   ]
  }
 ],
 "metadata": {
  "kernelspec": {
   "display_name": "Python 3 (ipykernel)",
   "language": "python",
   "name": "python3"
  },
  "language_info": {
   "codemirror_mode": {
    "name": "ipython",
    "version": 3
   },
   "file_extension": ".py",
   "mimetype": "text/x-python",
   "name": "python",
   "nbconvert_exporter": "python",
   "pygments_lexer": "ipython3",
   "version": "3.10.10"
  }
 },
 "nbformat": 4,
 "nbformat_minor": 5
}
