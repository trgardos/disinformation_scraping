{
 "cells": [
  {
   "cell_type": "code",
   "execution_count": 9,
   "id": "2499ebed",
   "metadata": {},
   "outputs": [],
   "source": [
    "import requests\n",
    "from bs4 import BeautifulSoup as bs\n",
    "import pandas as pd\n",
    "import requests\n",
    "import newspaper\n",
    "from selenium import webdriver"
   ]
  },
  {
   "cell_type": "code",
   "execution_count": 10,
   "id": "db268c5c",
   "metadata": {},
   "outputs": [],
   "source": [
    "#Settings\n",
    "think_tank = \"Heartland\"\n",
    "start_date = \"2021\" #Stop scraping articles that are from 2021 or older."
   ]
  },
  {
   "cell_type": "code",
   "execution_count": 11,
   "id": "fe5547ab",
   "metadata": {},
   "outputs": [
    {
     "data": {
      "text/html": [
       "<div>\n",
       "<style scoped>\n",
       "    .dataframe tbody tr th:only-of-type {\n",
       "        vertical-align: middle;\n",
       "    }\n",
       "\n",
       "    .dataframe tbody tr th {\n",
       "        vertical-align: top;\n",
       "    }\n",
       "\n",
       "    .dataframe thead th {\n",
       "        text-align: right;\n",
       "    }\n",
       "</style>\n",
       "<table border=\"1\" class=\"dataframe\">\n",
       "  <thead>\n",
       "    <tr style=\"text-align: right;\">\n",
       "      <th></th>\n",
       "      <th>TITLE</th>\n",
       "      <th>AUTHOR</th>\n",
       "      <th>CONTENT</th>\n",
       "      <th>DATE</th>\n",
       "      <th>TYPE</th>\n",
       "      <th>THINK_TANK</th>\n",
       "      <th>LINK</th>\n",
       "    </tr>\n",
       "  </thead>\n",
       "  <tbody>\n",
       "  </tbody>\n",
       "</table>\n",
       "</div>"
      ],
      "text/plain": [
       "Empty DataFrame\n",
       "Columns: [TITLE, AUTHOR, CONTENT, DATE, TYPE, THINK_TANK, LINK]\n",
       "Index: []"
      ]
     },
     "execution_count": 11,
     "metadata": {},
     "output_type": "execute_result"
    }
   ],
   "source": [
    "df = pd.DataFrame(columns= [\"THINK_TANK\", \"AUTHOR\", \"TITLE\", \"CONTENT\", \"DATE\", \"LINK\", \"TYPE\"])\n",
    "df = df[[\"TITLE\", \"AUTHOR\", \"CONTENT\", \"DATE\", \"TYPE\", \"THINK_TANK\", \"LINK\"]]\n",
    "df.head()"
   ]
  },
  {
   "cell_type": "code",
   "execution_count": 12,
   "id": "7316b9b9",
   "metadata": {},
   "outputs": [],
   "source": [
    "#Settings for scraping libraries\n",
    "user_agent = 'Mozilla/5.0 (Macintosh; Intel Mac OS X 10_15_7) AppleWebKit/537.36 (KHTML, like Gecko) Chrome/113.0.0.0 Safari/537.36'\n",
    "config = newspaper.Config()\n",
    "config.browser_user_agent = user_agent\n"
   ]
  },
  {
   "cell_type": "code",
   "execution_count": 13,
   "id": "bd0187d1",
   "metadata": {},
   "outputs": [
    {
     "name": "stderr",
     "output_type": "stream",
     "text": [
      "/var/folders/px/4r2jc78x1h748q29m317jc6w0000gn/T/ipykernel_57472/1162476086.py:1: DeprecationWarning: executable_path has been deprecated, please pass in a Service object\n",
      "  driver = webdriver.Chrome(\"/usr/lib/chromium-browser/chromedriver\")\n"
     ]
    }
   ],
   "source": [
    "driver = webdriver.Chrome(\"/usr/lib/chromium-browser/chromedriver\")"
   ]
  },
  {
   "cell_type": "code",
   "execution_count": 14,
   "id": "10977ea1",
   "metadata": {},
   "outputs": [],
   "source": [
    "def scrape_article(URL,type):\n",
    "    try:\n",
    "        article = newspaper.Article(URL,config=config)\n",
    "        article.download()\n",
    "        article.parse() #Download and parse article using Newspaper library\n",
    "\n",
    "        soup = bs(article.html, 'html.parser') #Download article using Newspaper BeautifulSoup\n",
    "        date = soup.find(\"div\", class_=\"zn-date\").text.replace(\"Published \", \"\").strip()\n",
    "\n",
    "        if start_date in date:\n",
    "            return False #Stops scraping if article older than the start_date defined earlier. \n",
    "        else:\n",
    "            author = soup.find(\"div\", class_=\"zn-authors\").text.replace(\"By \", \"\").strip()\n",
    "            title = article.title.replace(\" – The Heartland Institute\", \"\") #Deletes the generic end of the title.\n",
    "            row = [title, author, article.text, date, type ,think_tank, URL]\n",
    "\n",
    "            df.loc[len(df)] = row\n",
    "            return True #Returns true to continue scraping more articles, as the articles are still within the date range \n",
    "    except:return True\n"
   ]
  },
  {
   "cell_type": "code",
   "execution_count": 15,
   "id": "cbc67756",
   "metadata": {},
   "outputs": [],
   "source": [
    "#Run through all publication sites until start_date reached. And then the Op-ed Site. \n",
    "driver.get(\"https://heartland.org/publications/page/1/?topic=environment-energy\") #Only environment/energy articles.\n",
    "soup = bs(driver.page_source, \"html.parser\")\n",
    "\n",
    "run = True #is true until the first article before start_date is reached. \n",
    "\n",
    "while run:\n",
    "    #Scrapes all articles on the page\n",
    "    publications =  soup.find_all(\"div\", class_='zn-archive-listing')\n",
    "    \n",
    "    for publication in publications:\n",
    "        link = publication.find(\"h2\").find(\"a\")[\"href\"]\n",
    "        run = scrape_article(link, \"PUBLICATION\")\n",
    "        if run == False: \n",
    "            break\n",
    "    \n",
    "    #Gooes to next pages to scrape more articles there.\n",
    "    next_page = soup.find(\"a\", class_=\"next page-numbers\")\n",
    "    if next_page is None:\n",
    "        run = False\n",
    "    else:\n",
    "        driver.get(next_page[\"href\"])\n",
    "        soup = bs(driver.page_source, \"html.parser\")\n",
    "\n",
    "\n",
    "#Start scraping op-eds.     \n",
    "driver.get(\"https://heartland.org/opinion/page/1/?topic=environment-energy\")\n",
    "soup = bs(driver.page_source, \"html.parser\")\n",
    "\n",
    "run = True\n",
    "\n",
    "while run:\n",
    "    publications =  soup.find_all(\"div\", class_='zn-archive-listing')\n",
    "    for publication in publications:\n",
    "        link = publication.find(\"h2\").find(\"a\")[\"href\"]\n",
    "        run = scrape_article(link, \"OPED\")\n",
    "        if run == False: \n",
    "            break\n",
    "    next_page = soup.find(\"a\", class_=\"next page-numbers\")\n",
    "    if next_page is None:\n",
    "        run = False\n",
    "    else:\n",
    "        driver.get(next_page[\"href\"])\n",
    "        soup = bs(driver.page_source, \"html.parser\")\n",
    "    "
   ]
  },
  {
   "cell_type": "code",
   "execution_count": 17,
   "id": "c3abb1a9",
   "metadata": {},
   "outputs": [],
   "source": [
    "#put data into csv\n",
    "df.to_csv(\"data/heartland.csv\", encoding=\"utf-8-sig\", index=False)"
   ]
  }
 ],
 "metadata": {
  "kernelspec": {
   "display_name": "Python 3 (ipykernel)",
   "language": "python",
   "name": "python3"
  },
  "language_info": {
   "codemirror_mode": {
    "name": "ipython",
    "version": 3
   },
   "file_extension": ".py",
   "mimetype": "text/x-python",
   "name": "python",
   "nbconvert_exporter": "python",
   "pygments_lexer": "ipython3",
   "version": "3.10.10"
  }
 },
 "nbformat": 4,
 "nbformat_minor": 5
}
